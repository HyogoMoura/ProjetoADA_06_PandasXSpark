{
 "cells": [
  {
   "cell_type": "markdown",
   "id": "14fbb9c6",
   "metadata": {
    "id": "14fbb9c6"
   },
   "source": [
    "# Projeto 06- Bigdata - Pandas"
   ]
  },
  {
   "cell_type": "markdown",
   "id": "fc1b2ffb",
   "metadata": {
    "id": "fc1b2ffb"
   },
   "source": [
    "## Contextualização\n",
    "\n",
    "A PyCoders Ltda., cada vez mais especializada no mundo da Engenharia de Dados, foi procurada por uma fintech para desenvolver um projeto de análise de dados.\n",
    "\n",
    "A fintech percebeu que muito dos seus processos estão se tornando lentos pelo uso incorreto de ferramentas! Desde que está se trabalhando com Big Data, uso de bibliotecas como pandas e sklearn tornam a Extracção, Tratamento e Carregamento dos dados (ETL) processos muito lentos, inclusive o treinamento de modelos de machine learning (ML) tem se tornado um processo muito demorado.\n",
    "\n",
    "Para lidar com esse problema, foi sugerido fazer uso da biblioteca pyspark, para implementar todo o fluxo de ETL.\n"
   ]
  },
  {
   "cell_type": "markdown",
   "id": "4a7cb738",
   "metadata": {
    "id": "4a7cb738"
   },
   "source": [
    "## Objetivo de projeto\n",
    "\n",
    "Como queremos demostrar que de fato a solução proposta traz uma melhora, foi solicitado implementar uma análise comparativa de resultados usando a antiga abordagem (usando pandas e sklearn) e usando a nova proposta de solução (pyspark). Para isso, tome em consideração o seguinte:\n",
    "\n",
    "1. Escolha dois conjuntos de dados interessantes, sendo que um deles é pequeno (menos de 10.000 linhas) e o outro bem maior (acima de 1.000.000 linhas). Uma possivel sugestão seria usar um unico dataset (com muitos dados), e extrair uma pequena proporção dos dados desde dataset e considerar essa parte como o dataset menor.\n",
    "\n",
    "   - **Sugestão:** <a href=\"https://www.kaggle.com/datasets/computingvictor/transactions-fraud-datasets\" target=\"_blank\">Transactions Fraud Dataset</a>.\n",
    "\n",
    "2. Aplique todas as etapas de ETL nos dois conjuntos de dados usando pandas y pyspark. As etapas incluem: (1) Extração dos dados, por exemplo de um csv, (2) Tratamento dos dados (limpeza, alteração de nomes de colunas, criação de mais tabelas, transformação nas colunas, etc.), e, (3) Carregamento dos dados (salvar a transformação feita sobre os dados). \n",
    "\n",
    "3. Lembre que cada etapa tem que ser feita usando unicamente pandas/sklearn ou pyspark.\n",
    "\n",
    "4. Como o objetivo é fazer uma análise comparativa, tome em consideração o tempo que demora cada etapa, para depois facilitar as comparações. \n",
    "\n",
    "Boa sorte e divirta-se!!"
   ]
  },
  {
   "cell_type": "markdown",
   "id": "5f639254-5a35-43b6-bd58-19c9615d0ed7",
   "metadata": {
    "id": "5f639254-5a35-43b6-bd58-19c9615d0ed7"
   },
   "source": [
    "## Datasets\n",
    "\n",
    "\n",
    "Você pode procurar conjuntos de dados aqui:\n",
    "\n",
    "1. No repositório da <a href=\"https://archive.ics.uci.edu/ml/datasets.php\" target=\"_blank\">UCI</a>.\n",
    "1. No <a href=\"https://www.kaggle.com/datasets\" target=\"_blank\">Kaggle</a>.\n",
    "\n",
    "\n",
    "## Organização e entregáveis\n",
    "\n",
    "1. O projeto pode ser feito em grupo de até 05 participantes.\n",
    "2. O projeto completo (Notebook, código-fonte, link para fontes, bases e demais artefatos) deve ser enviado por e-mail ``jchambyd@gmail.com`` com nome dos participantes. Colocar no assunto do e-mail: ``Projeto Santander Coders 2024 - Data - Turma 1180``\n",
    "\n",
    "## Deadline\n",
    "**Apresentação**: 10/12/2024 <br>\n"
   ]
  },
  {
   "cell_type": "markdown",
   "id": "79afd15b",
   "metadata": {
    "id": "79afd15b"
   },
   "source": [
    "## Exemplo:\n",
    "\n",
    "[ETL simples usando pandas][1]\n",
    "\n",
    "[ETL simples usando pyspark][2]\n",
    "\n",
    "[1]: https://blog.devgenius.io/basic-etl-using-pandas-23729ae4e05e\n",
    "\n",
    "[2]: https://blog.devgenius.io/basic-etl-using-pyspark-ed08b7e53cf4"
   ]
  },
  {
   "cell_type": "markdown",
   "id": "7a1036a4",
   "metadata": {},
   "source": [
    "### ETL pandas"
   ]
  },
  {
   "cell_type": "code",
   "execution_count": null,
   "id": "2a31001f",
   "metadata": {},
   "outputs": [],
   "source": [
    "pip install gdown"
   ]
  },
  {
   "cell_type": "code",
   "execution_count": null,
   "id": "e64fdcb2",
   "metadata": {},
   "outputs": [],
   "source": [
    "import pandas as pd\n",
    "import time\n",
    "import gdown\n",
    "import os"
   ]
  },
  {
   "cell_type": "code",
   "execution_count": null,
   "id": "d95b60af",
   "metadata": {},
   "outputs": [],
   "source": [
    "dict_datasets = {\n",
    "    \"transactions_data.csv\": \"1cZrxq0hTNZkZvH9_LrtG8idximIuZxiy\",\n",
    "    \"cards_data.csv\": \"1YRzsRf5xVLEfq8oSb2KOdFG5E3Zfk03P\",\n",
    "    \"users_data.csv\": \"1iVEIVr_2RgOnR_TjOHKQ1WgbXf5i2nFq\"}\n",
    "\n",
    "for file_output, file_id in dict_datasets.items():\n",
    "    gdown.download(f\"https://drive.google.com/uc?id={file_id}\", file_output, quiet=False)\n",
    "    dbfs_path = f\"dbfs:/FileStore/{file_output}\"\n",
    "    os.makedirs(os.path.dirname(dbfs_path), exist_ok=True)\n",
    "    os.rename(file_output, dbfs_path)\n",
    "    print(f\"Arquivo salvo em {dbfs_path}\")"
   ]
  },
  {
   "cell_type": "code",
   "execution_count": 2,
   "id": "656c23bd",
   "metadata": {},
   "outputs": [],
   "source": [
    "# Controle dos tempos de execução de cada tabela para cada processo\n",
    "colunas = ['transacoes', 'cartoes', 'usuarios']\n",
    "linhas = ['extracao', 'transformacao', 'carga']\n",
    "df_tempo_execucao = pd.DataFrame(index=linhas, columns=colunas)"
   ]
  },
  {
   "cell_type": "markdown",
   "id": "06fcea67",
   "metadata": {},
   "source": [
    "#### 1. Extração de dados"
   ]
  },
  {
   "cell_type": "markdown",
   "id": "9d9cee27",
   "metadata": {},
   "source": [
    "##### 1.1. Dataset de Transações"
   ]
  },
  {
   "cell_type": "code",
   "execution_count": null,
   "id": "7ed0481b",
   "metadata": {},
   "outputs": [
    {
     "name": "stdout",
     "output_type": "stream",
     "text": [
      "Tempo total da extração do dataset de transações: nan segundos\n"
     ]
    }
   ],
   "source": [
    "start_time_extraction_transactions = time.time()\n",
    "\n",
    "data_raw = pd.read_csv('dbfs:/FileStore/transactions_data.csv')\n",
    "data_raw.head()\n",
    "\n",
    "end_time_extraction_transactions = time.time()\n",
    "df_tempo_execucao.loc['extracao', 'transacoes'] = end_time_extraction_transactions - start_time_extraction_transactions\n",
    "print(f\"Tempo total da extração do dataset de transações: {df_tempo_execucao.loc['extracao', 'transacoes']:.2f} segundos\")"
   ]
  },
  {
   "cell_type": "markdown",
   "id": "ba08f797",
   "metadata": {},
   "source": [
    "##### 1.2. Dataset de Cartões"
   ]
  },
  {
   "cell_type": "code",
   "execution_count": null,
   "id": "0e288ebe",
   "metadata": {},
   "outputs": [
    {
     "name": "stdout",
     "output_type": "stream",
     "text": [
      "Tempo total da extração do dataset de cartões: nan segundos\n"
     ]
    }
   ],
   "source": [
    "start_time_extraction_cards = time.time()\n",
    "\n",
    "data_raw_card=pd.read_csv('dbfs:/FileStore/cards_data.csv')\n",
    "data_raw_card.head()\n",
    "\n",
    "end_time_extraction_cards = time.time()\n",
    "df_tempo_execucao.loc['extracao', 'cartoes'] = end_time_extraction_cards - start_time_extraction_cards\n",
    "print(f\"Tempo total da extração do dataset de cartões: {df_tempo_execucao.loc['extracao', 'cartoes']:.2f} segundos\")"
   ]
  },
  {
   "cell_type": "markdown",
   "id": "edbec70a",
   "metadata": {},
   "source": [
    "##### 1.3. Dataset de Usuários"
   ]
  },
  {
   "cell_type": "code",
   "execution_count": null,
   "id": "949bd122",
   "metadata": {},
   "outputs": [
    {
     "name": "stdout",
     "output_type": "stream",
     "text": [
      "Tempo total da extração do dataset de usuários: nan segundos\n"
     ]
    }
   ],
   "source": [
    "start_time_extraction_users = time.time()\n",
    "\n",
    "data_raw_users=pd.read_csv('dbfs:/FileStore/users_data.csv')\n",
    "data_raw_users.head()\n",
    "\n",
    "end_time_extraction_users = time.time()\n",
    "df_tempo_execucao.loc['extracao', 'usuarios'] = end_time_extraction_users - start_time_extraction_users\n",
    "print(f\"Tempo total da extração do dataset de usuários: {df_tempo_execucao.loc['extracao', 'usuarios']:.2f} segundos\")"
   ]
  },
  {
   "cell_type": "markdown",
   "id": "db1a0b20",
   "metadata": {},
   "source": [
    "#### 2. Análise inicial dos Dados"
   ]
  },
  {
   "cell_type": "code",
   "execution_count": 6,
   "id": "607705f5",
   "metadata": {},
   "outputs": [],
   "source": [
    "data_bronze_trans = data_raw.copy()\n",
    "data_bronze_users = data_raw_users.copy()\n",
    "data_bronze_card = data_raw_card.copy()"
   ]
  },
  {
   "cell_type": "code",
   "execution_count": 7,
   "id": "a6fe8b79",
   "metadata": {},
   "outputs": [
    {
     "name": "stdout",
     "output_type": "stream",
     "text": [
      "Quantidade de registro de dados transacionais: 13305915\n",
      "Quantidade de registro de cartão de crédito: 6146\n",
      "Quantidade de registro de usuários: 2000\n"
     ]
    }
   ],
   "source": [
    "print(f'Quantidade de registro de dados transacionais: {data_bronze_trans.shape[0]}')\n",
    "print(f'Quantidade de registro de cartão de crédito: {data_bronze_card.shape[0]}')\n",
    "print(f'Quantidade de registro de usuários: {data_bronze_users.shape[0]}')"
   ]
  },
  {
   "cell_type": "code",
   "execution_count": 8,
   "id": "b1caa476",
   "metadata": {},
   "outputs": [
    {
     "name": "stdout",
     "output_type": "stream",
     "text": [
      "Tipos de dados da tabela de transações: \n",
      "\n",
      "id                  int64\n",
      "date               object\n",
      "client_id           int64\n",
      "card_id             int64\n",
      "amount             object\n",
      "use_chip           object\n",
      "merchant_id         int64\n",
      "merchant_city      object\n",
      "merchant_state     object\n",
      "zip               float64\n",
      "mcc                 int64\n",
      "errors             object\n",
      "dtype: object\n",
      "\n",
      "Tipos de dados da tabela de cartões: \n",
      "\n",
      "id                        int64\n",
      "client_id                 int64\n",
      "card_brand               object\n",
      "card_type                object\n",
      "card_number               int64\n",
      "expires                  object\n",
      "cvv                       int64\n",
      "has_chip                 object\n",
      "num_cards_issued          int64\n",
      "credit_limit             object\n",
      "acct_open_date           object\n",
      "year_pin_last_changed     int64\n",
      "card_on_dark_web         object\n",
      "dtype: object\n",
      "\n",
      "Tipos de dados da tabela de usuários: \n",
      "\n",
      "id                     int64\n",
      "current_age            int64\n",
      "retirement_age         int64\n",
      "birth_year             int64\n",
      "birth_month            int64\n",
      "gender                object\n",
      "address               object\n",
      "latitude             float64\n",
      "longitude            float64\n",
      "per_capita_income     object\n",
      "yearly_income         object\n",
      "total_debt            object\n",
      "credit_score           int64\n",
      "num_credit_cards       int64\n",
      "dtype: object\n"
     ]
    }
   ],
   "source": [
    "print(\"Tipos de dados da tabela de transações: \\n\")\n",
    "print(data_bronze_trans.dtypes)\n",
    "print(\"\\nTipos de dados da tabela de cartões: \\n\")\n",
    "print(data_bronze_card.dtypes)\n",
    "print(\"\\nTipos de dados da tabela de usuários: \\n\")\n",
    "print(data_bronze_users.dtypes)"
   ]
  },
  {
   "cell_type": "markdown",
   "id": "63809329",
   "metadata": {},
   "source": [
    "#### 3. Trasformação e limpeza de dados"
   ]
  },
  {
   "cell_type": "code",
   "execution_count": 9,
   "id": "0c6255ec",
   "metadata": {},
   "outputs": [],
   "source": [
    "def amount_null_dataframe(data_frame: pd.DataFrame) -> pd.Series:\n",
    "    \"\"\"Método utilitário que verifica em porcentagem a quantidade de dados nulas em cada coluna do Dataframe.\n",
    "\n",
    "    Args:\n",
    "        data_frame (pd.DataFrame): Dataframe para análise\n",
    "\n",
    "    Returns:\n",
    "        pd.Series: Porcetagem de nulos de cada coluna.\n",
    "    \"\"\"\n",
    "    data_missing = data_frame.isna().sum()\n",
    "    data_missing = (data_missing/len(data_frame))*100\n",
    "    return data_missing.sort_values(ascending=False)"
   ]
  },
  {
   "cell_type": "markdown",
   "id": "b0cd2618",
   "metadata": {},
   "source": [
    "##### 3.1. Dataset de Transações"
   ]
  },
  {
   "cell_type": "code",
   "execution_count": 10,
   "id": "e3859c83",
   "metadata": {},
   "outputs": [
    {
     "name": "stdout",
     "output_type": "stream",
     "text": [
      "\n",
      "errors            98.411286\n",
      "id                 0.000000\n",
      "date               0.000000\n",
      "client_id          0.000000\n",
      "card_id            0.000000\n",
      "amount             0.000000\n",
      "use_chip           0.000000\n",
      "merchant_id        0.000000\n",
      "merchant_city      0.000000\n",
      "merchant_state     0.000000\n",
      "zip                0.000000\n",
      "mcc                0.000000\n",
      "dtype: float64\n",
      "\n",
      "Tempo total da transformação do dataset de transações: 62.87 segundos\n",
      "\n",
      "id                         int64\n",
      "date              datetime64[ns]\n",
      "client_id                  int64\n",
      "card_id                    int64\n",
      "amount                   float64\n",
      "use_chip                  object\n",
      "merchant_id                int64\n",
      "merchant_city             object\n",
      "merchant_state            object\n",
      "zip                       object\n",
      "mcc                        int64\n",
      "dtype: object\n"
     ]
    }
   ],
   "source": [
    "def adjust_columns_transactions(data_bronze_trans: pd.DataFrame) -> pd.DataFrame:\n",
    "    data_bronze_trans['date'] = pd.to_datetime(data_bronze_trans['date'])\n",
    "    data_bronze_trans['amount'] = data_bronze_trans['amount'].str.replace('$','')\n",
    "    data_bronze_trans['amount'] = data_bronze_trans['amount'].astype(float)\n",
    "    data_bronze_trans['merchant_city'] = data_bronze_trans['merchant_city'].astype(str)\n",
    "    data_bronze_trans['merchant_state'] = data_bronze_trans['merchant_state'].astype(str)\n",
    "    data_bronze_trans['zip'] = data_bronze_trans['zip'].astype(str)\n",
    "    data_bronze_trans['zip'] = data_bronze_trans['zip'].str.replace('.0','')\n",
    "    return data_bronze_trans\n",
    "\n",
    "\n",
    "start_time_transform_transactions = time.time()\n",
    "\n",
    "data_bronze_trans = adjust_columns_transactions(data_bronze_trans)\n",
    "print()\n",
    "print(amount_null_dataframe(data_bronze_trans))\n",
    "data_bronze_trans.drop(columns=['errors'], inplace=True)  #Coluna quase toda nula\n",
    "\n",
    "end_time_transform_transactions = time.time()\n",
    "df_tempo_execucao.loc['transformacao', 'transacoes'] = end_time_transform_transactions - start_time_transform_transactions\n",
    "print(f\"\\nTempo total da transformação do dataset de transações: {df_tempo_execucao.loc['transformacao', 'transacoes']:.2f} segundos\")\n",
    "\n",
    "print()\n",
    "print(data_bronze_trans.dtypes)"
   ]
  },
  {
   "cell_type": "markdown",
   "id": "25734227",
   "metadata": {},
   "source": [
    "##### 3.2. Dataset de Cartões"
   ]
  },
  {
   "cell_type": "code",
   "execution_count": 11,
   "id": "3a812c70",
   "metadata": {},
   "outputs": [
    {
     "name": "stdout",
     "output_type": "stream",
     "text": [
      "\n",
      "id                       0.0\n",
      "client_id                0.0\n",
      "card_brand               0.0\n",
      "card_type                0.0\n",
      "card_number              0.0\n",
      "expires                  0.0\n",
      "cvv                      0.0\n",
      "has_chip                 0.0\n",
      "num_cards_issued         0.0\n",
      "credit_limit             0.0\n",
      "acct_open_date           0.0\n",
      "year_pin_last_changed    0.0\n",
      "card_on_dark_web         0.0\n",
      "dtype: float64\n",
      "\n",
      "Tempo total da transformação do dataset de cartões: 0.10 segundos\n",
      "\n",
      "id                           int64\n",
      "client_id                    int64\n",
      "card_brand                  object\n",
      "card_type                   object\n",
      "card_number                  int64\n",
      "expires                  period[M]\n",
      "cvv                          int64\n",
      "has_chip                      bool\n",
      "num_cards_issued             int64\n",
      "credit_limit               float64\n",
      "acct_open_date           period[M]\n",
      "year_pin_last_changed        int64\n",
      "card_on_dark_web              bool\n",
      "dtype: object\n"
     ]
    }
   ],
   "source": [
    "def adjust_columns_card(data_bronze_card: pd.DataFrame) -> pd.DataFrame:\n",
    "    data_bronze_card['expires'] =  pd.to_datetime(data_bronze_card['expires'], format='%m/%Y').dt.to_period('M')\n",
    "    data_bronze_card['acct_open_date'] =  pd.to_datetime(data_bronze_card['acct_open_date'], format='%m/%Y').dt.to_period('M')\n",
    "    data_bronze_card['has_chip'] = data_bronze_card['has_chip'].map({'YES': True, 'NO': False})\n",
    "    data_bronze_card['card_on_dark_web'] = data_bronze_card['card_on_dark_web'].map({'Yes': True, 'No': False})\n",
    "    data_bronze_card['credit_limit'] = data_bronze_card['credit_limit'].str.replace('$','')\n",
    "    data_bronze_card['credit_limit'] = data_bronze_card['credit_limit'].str.replace('$','').astype(float)\n",
    "    return data_bronze_card\n",
    "\n",
    "start_time_transform_cards = time.time()\n",
    "\n",
    "data_bronze_card = adjust_columns_card(data_bronze_card)\n",
    "print()\n",
    "print(amount_null_dataframe(data_bronze_card))\n",
    "#Não há colunas a serem excluídas por motivo de nulos\n",
    "\n",
    "end_time_transform_cards = time.time()\n",
    "df_tempo_execucao.loc['transformacao', 'cartoes'] = end_time_transform_cards - start_time_transform_cards\n",
    "print(f\"\\nTempo total da transformação do dataset de cartões: {df_tempo_execucao.loc['transformacao', 'cartoes']:.2f} segundos\")\n",
    "\n",
    "print()\n",
    "print(data_bronze_card.dtypes)"
   ]
  },
  {
   "cell_type": "markdown",
   "id": "438f45b7",
   "metadata": {},
   "source": [
    "##### 3.3. Dataset de Usuários"
   ]
  },
  {
   "cell_type": "code",
   "execution_count": 12,
   "id": "42d5e960",
   "metadata": {},
   "outputs": [
    {
     "name": "stdout",
     "output_type": "stream",
     "text": [
      "\n",
      "id                   0.0\n",
      "current_age          0.0\n",
      "retirement_age       0.0\n",
      "birth_year           0.0\n",
      "birth_month          0.0\n",
      "gender               0.0\n",
      "address              0.0\n",
      "latitude             0.0\n",
      "longitude            0.0\n",
      "per_capita_income    0.0\n",
      "yearly_income        0.0\n",
      "total_debt           0.0\n",
      "credit_score         0.0\n",
      "num_credit_cards     0.0\n",
      "dtype: float64\n",
      "\n",
      "Tempo total da transformação do dataset de usuários: 2.40 segundos\n",
      "\n",
      "id                     int64\n",
      "current_age            int64\n",
      "retirement_age         int64\n",
      "birth_year             int64\n",
      "birth_month            int64\n",
      "gender                object\n",
      "address               object\n",
      "latitude             float64\n",
      "longitude            float64\n",
      "per_capita_income    float64\n",
      "yearly_income        float64\n",
      "total_debt           float64\n",
      "credit_score           int64\n",
      "num_credit_cards       int64\n",
      "dtype: object\n"
     ]
    }
   ],
   "source": [
    "def adjust_columns_users(data_bronze_users: pd.DataFrame) -> pd.DataFrame:\n",
    "    data_bronze_users['per_capita_income'] = data_bronze_users['per_capita_income'].str.replace('$','')\n",
    "    data_bronze_users['per_capita_income'] = data_bronze_users['per_capita_income'].str.replace('$','').astype(float)\n",
    "    data_bronze_users['yearly_income'] = data_bronze_users['yearly_income'].str.replace('$','')\n",
    "    data_bronze_users['yearly_income'] = data_bronze_users['yearly_income'].str.replace('$','').astype(float)\n",
    "    data_bronze_users['total_debt'] = data_bronze_users['total_debt'].str.replace('$','')\n",
    "    data_bronze_users['total_debt'] = data_bronze_users['total_debt'].str.replace('$','').astype(float)\n",
    "    return data_bronze_users\n",
    "\n",
    "start_time_transform_users = time.time()\n",
    "\n",
    "data_bronze_users = adjust_columns_users(data_bronze_users)\n",
    "\n",
    "print()\n",
    "print(amount_null_dataframe(data_bronze_users))\n",
    "#Não há colunas a serem excluídas por motivo de nulos\n",
    "\n",
    "end_time_transform_users = time.time()\n",
    "df_tempo_execucao.loc['transformacao', 'usuarios'] = end_time_transform_users - start_time_transform_users\n",
    "print(f\"\\nTempo total da transformação do dataset de usuários: {df_tempo_execucao.loc['transformacao', 'usuarios']:.2f} segundos\")\n",
    "\n",
    "print()\n",
    "print(data_bronze_users.dtypes)"
   ]
  },
  {
   "cell_type": "markdown",
   "id": "4da08085",
   "metadata": {},
   "source": [
    "#### 4. Carregamento banco de dados"
   ]
  },
  {
   "cell_type": "markdown",
   "id": "6927fdf6",
   "metadata": {},
   "source": [
    "##### 4.1. Dataset de Transações"
   ]
  },
  {
   "cell_type": "code",
   "execution_count": null,
   "id": "f6b7c8a4",
   "metadata": {},
   "outputs": [
    {
     "name": "stdout",
     "output_type": "stream",
     "text": [
      "Tempo total de execução da carga no dataset de transações: 26.79 segundos\n"
     ]
    }
   ],
   "source": [
    "start_time_load_transactions = time.time()\n",
    "\n",
    "df_trans_silver = data_bronze_trans.copy()\n",
    "df_trans_silver.to_parquet('dbfs:/FileStore/Tabela_Transacoes_Silver')\n",
    "\n",
    "end_time_load_transactions = time.time()\n",
    "df_tempo_execucao.loc['carga', 'transacoes'] = end_time_load_transactions - start_time_load_transactions\n",
    "print(f\"Tempo total de execução da carga no dataset de transações: {df_tempo_execucao.loc['carga', 'transacoes']:.2f} segundos\")"
   ]
  },
  {
   "cell_type": "markdown",
   "id": "b83d5d33",
   "metadata": {},
   "source": [
    "##### 4.2. Dataset de Cartões"
   ]
  },
  {
   "cell_type": "code",
   "execution_count": null,
   "id": "2939ca4c",
   "metadata": {},
   "outputs": [
    {
     "name": "stdout",
     "output_type": "stream",
     "text": [
      "Tempo total de execução da carga no dataset de cartões: 0.09 segundos\n"
     ]
    }
   ],
   "source": [
    "start_time_load_cards = time.time()\n",
    "\n",
    "df_card_silver = data_bronze_card.copy()\n",
    "df_card_silver.to_parquet('dbfs:/FileStore/Tabela_Cartoes_Credito_Silver')\n",
    "\n",
    "end_time_load_cards = time.time()\n",
    "df_tempo_execucao.loc['carga', 'cartoes'] = end_time_load_cards - start_time_load_cards\n",
    "print(f\"Tempo total de execução da carga no dataset de cartões: {df_tempo_execucao.loc['carga', 'cartoes']:.2f} segundos\")"
   ]
  },
  {
   "cell_type": "markdown",
   "id": "bc8ead65",
   "metadata": {},
   "source": [
    "##### 4.3. Dataset de Usuários"
   ]
  },
  {
   "cell_type": "code",
   "execution_count": null,
   "id": "7848de2f",
   "metadata": {},
   "outputs": [
    {
     "name": "stdout",
     "output_type": "stream",
     "text": [
      "Tempo total de execução da carga no dataset de usuários: 0.03 segundos\n"
     ]
    }
   ],
   "source": [
    "start_time_load_users = time.time()\n",
    "\n",
    "df_users_silver = data_bronze_users.copy()\n",
    "df_users_silver.to_parquet('dbfs:/FileStore/Tabela_Usuarios_Silver')\n",
    "\n",
    "end_time_load_users = time.time()\n",
    "df_tempo_execucao.loc['carga', 'usuarios'] = end_time_load_users - start_time_load_users\n",
    "print(f\"Tempo total de execução da carga no dataset de usuários: {df_tempo_execucao.loc['carga', 'usuarios']:.2f} segundos\")"
   ]
  },
  {
   "cell_type": "code",
   "execution_count": 16,
   "id": "8a7442d8",
   "metadata": {},
   "outputs": [
    {
     "data": {
      "text/html": [
       "<div>\n",
       "<style scoped>\n",
       "    .dataframe tbody tr th:only-of-type {\n",
       "        vertical-align: middle;\n",
       "    }\n",
       "\n",
       "    .dataframe tbody tr th {\n",
       "        vertical-align: top;\n",
       "    }\n",
       "\n",
       "    .dataframe thead th {\n",
       "        text-align: right;\n",
       "    }\n",
       "</style>\n",
       "<table border=\"1\" class=\"dataframe\">\n",
       "  <thead>\n",
       "    <tr style=\"text-align: right;\">\n",
       "      <th></th>\n",
       "      <th>transacoes</th>\n",
       "      <th>cartoes</th>\n",
       "      <th>usuarios</th>\n",
       "    </tr>\n",
       "  </thead>\n",
       "  <tbody>\n",
       "    <tr>\n",
       "      <th>extracao</th>\n",
       "      <td>33.767671</td>\n",
       "      <td>0.032851</td>\n",
       "      <td>0.013856</td>\n",
       "    </tr>\n",
       "    <tr>\n",
       "      <th>transformacao</th>\n",
       "      <td>62.867598</td>\n",
       "      <td>0.103056</td>\n",
       "      <td>2.396764</td>\n",
       "    </tr>\n",
       "    <tr>\n",
       "      <th>carga</th>\n",
       "      <td>26.794364</td>\n",
       "      <td>0.090338</td>\n",
       "      <td>0.029251</td>\n",
       "    </tr>\n",
       "  </tbody>\n",
       "</table>\n",
       "</div>"
      ],
      "text/plain": [
       "              transacoes   cartoes  usuarios\n",
       "extracao       33.767671  0.032851  0.013856\n",
       "transformacao  62.867598  0.103056  2.396764\n",
       "carga          26.794364  0.090338  0.029251"
      ]
     },
     "execution_count": 16,
     "metadata": {},
     "output_type": "execute_result"
    }
   ],
   "source": [
    "df_tempo_execucao"
   ]
  }
 ],
 "metadata": {
  "colab": {
   "provenance": []
  },
  "kernelspec": {
   "display_name": "Python 3",
   "language": "python",
   "name": "python3"
  },
  "language_info": {
   "codemirror_mode": {
    "name": "ipython",
    "version": 3
   },
   "file_extension": ".py",
   "mimetype": "text/x-python",
   "name": "python",
   "nbconvert_exporter": "python",
   "pygments_lexer": "ipython3",
   "version": "3.12.2"
  }
 },
 "nbformat": 4,
 "nbformat_minor": 5
}
