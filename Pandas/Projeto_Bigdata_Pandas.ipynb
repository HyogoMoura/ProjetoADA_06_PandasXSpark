{
 "cells": [
  {
   "cell_type": "markdown",
   "id": "14fbb9c6",
   "metadata": {
    "id": "14fbb9c6"
   },
   "source": [
    "# Projeto 06- Bigdata - Pandas"
   ]
  },
  {
   "cell_type": "markdown",
   "id": "fc1b2ffb",
   "metadata": {
    "id": "fc1b2ffb"
   },
   "source": [
    "## Contextualização\n",
    "\n",
    "A PyCoders Ltda., cada vez mais especializada no mundo da Engenharia de Dados, foi procurada por uma fintech para desenvolver um projeto de análise de dados.\n",
    "\n",
    "A fintech percebeu que muito dos seus processos estão se tornando lentos pelo uso incorreto de ferramentas! Desde que está se trabalhando com Big Data, uso de bibliotecas como pandas e sklearn tornam a Extracção, Tratamento e Carregamento dos dados (ETL) processos muito lentos, inclusive o treinamento de modelos de machine learning (ML) tem se tornado um processo muito demorado.\n",
    "\n",
    "Para lidar com esse problema, foi sugerido fazer uso da biblioteca pyspark, para implementar todo o fluxo de ETL.\n"
   ]
  },
  {
   "cell_type": "markdown",
   "id": "4a7cb738",
   "metadata": {
    "id": "4a7cb738"
   },
   "source": [
    "## Objetivo de projeto\n",
    "\n",
    "Como queremos demostrar que de fato a solução proposta traz uma melhora, foi solicitado implementar uma análise comparativa de resultados usando a antiga abordagem (usando pandas e sklearn) e usando a nova proposta de solução (pyspark). Para isso, tome em consideração o seguinte:\n",
    "\n",
    "1. Escolha dois conjuntos de dados interessantes, sendo que um deles é pequeno (menos de 10.000 linhas) e o outro bem maior (acima de 1.000.000 linhas). Uma possivel sugestão seria usar um unico dataset (com muitos dados), e extrair uma pequena proporção dos dados desde dataset e considerar essa parte como o dataset menor.\n",
    "\n",
    "   - **Sugestão:** <a href=\"https://www.kaggle.com/datasets/computingvictor/transactions-fraud-datasets\" target=\"_blank\">Transactions Fraud Dataset</a>.\n",
    "\n",
    "2. Aplique todas as etapas de ETL nos dois conjuntos de dados usando pandas y pyspark. As etapas incluem: (1) Extração dos dados, por exemplo de um csv, (2) Tratamento dos dados (limpeza, alteração de nomes de colunas, criação de mais tabelas, transformação nas colunas, etc.), e, (3) Carregamento dos dados (salvar a transformação feita sobre os dados). \n",
    "\n",
    "3. Lembre que cada etapa tem que ser feita usando unicamente pandas/sklearn ou pyspark.\n",
    "\n",
    "4. Como o objetivo é fazer uma análise comparativa, tome em consideração o tempo que demora cada etapa, para depois facilitar as comparações. \n",
    "\n",
    "Boa sorte e divirta-se!!"
   ]
  },
  {
   "cell_type": "markdown",
   "id": "5f639254-5a35-43b6-bd58-19c9615d0ed7",
   "metadata": {
    "id": "5f639254-5a35-43b6-bd58-19c9615d0ed7"
   },
   "source": [
    "## Datasets\n",
    "\n",
    "\n",
    "Você pode procurar conjuntos de dados aqui:\n",
    "\n",
    "1. No repositório da <a href=\"https://archive.ics.uci.edu/ml/datasets.php\" target=\"_blank\">UCI</a>.\n",
    "1. No <a href=\"https://www.kaggle.com/datasets\" target=\"_blank\">Kaggle</a>.\n",
    "\n",
    "\n",
    "## Organização e entregáveis\n",
    "\n",
    "1. O projeto pode ser feito em grupo de até 05 participantes.\n",
    "2. O projeto completo (Notebook, código-fonte, link para fontes, bases e demais artefatos) deve ser enviado por e-mail ``jchambyd@gmail.com`` com nome dos participantes. Colocar no assunto do e-mail: ``Projeto Santander Coders 2024 - Data - Turma 1180``\n",
    "\n",
    "## Deadline\n",
    "**Apresentação**: 10/12/2024 <br>\n"
   ]
  },
  {
   "cell_type": "markdown",
   "id": "79afd15b",
   "metadata": {
    "id": "79afd15b"
   },
   "source": [
    "## Exemplo:\n",
    "\n",
    "[ETL simples usando pandas][1]\n",
    "\n",
    "[ETL simples usando pyspark][2]\n",
    "\n",
    "[1]: https://blog.devgenius.io/basic-etl-using-pandas-23729ae4e05e\n",
    "\n",
    "[2]: https://blog.devgenius.io/basic-etl-using-pyspark-ed08b7e53cf4"
   ]
  },
  {
   "cell_type": "markdown",
   "id": "7a1036a4",
   "metadata": {},
   "source": [
    "### ETL pandas"
   ]
  },
  {
   "cell_type": "markdown",
   "id": "06fcea67",
   "metadata": {},
   "source": [
    "#### 1.0 Extração e exploração de dados"
   ]
  },
  {
   "cell_type": "code",
   "execution_count": 1,
   "id": "27490b59",
   "metadata": {},
   "outputs": [],
   "source": [
    "import pandas as pd"
   ]
  },
  {
   "cell_type": "code",
   "execution_count": 2,
   "id": "7ed0481b",
   "metadata": {},
   "outputs": [
    {
     "data": {
      "text/html": [
       "<div>\n",
       "<style scoped>\n",
       "    .dataframe tbody tr th:only-of-type {\n",
       "        vertical-align: middle;\n",
       "    }\n",
       "\n",
       "    .dataframe tbody tr th {\n",
       "        vertical-align: top;\n",
       "    }\n",
       "\n",
       "    .dataframe thead th {\n",
       "        text-align: right;\n",
       "    }\n",
       "</style>\n",
       "<table border=\"1\" class=\"dataframe\">\n",
       "  <thead>\n",
       "    <tr style=\"text-align: right;\">\n",
       "      <th></th>\n",
       "      <th>id</th>\n",
       "      <th>date</th>\n",
       "      <th>client_id</th>\n",
       "      <th>card_id</th>\n",
       "      <th>amount</th>\n",
       "      <th>use_chip</th>\n",
       "      <th>merchant_id</th>\n",
       "      <th>merchant_city</th>\n",
       "      <th>merchant_state</th>\n",
       "      <th>zip</th>\n",
       "      <th>mcc</th>\n",
       "      <th>errors</th>\n",
       "    </tr>\n",
       "  </thead>\n",
       "  <tbody>\n",
       "    <tr>\n",
       "      <th>0</th>\n",
       "      <td>7475327</td>\n",
       "      <td>2010-01-01 00:01:00</td>\n",
       "      <td>1556</td>\n",
       "      <td>2972</td>\n",
       "      <td>$-77.00</td>\n",
       "      <td>Swipe Transaction</td>\n",
       "      <td>59935</td>\n",
       "      <td>Beulah</td>\n",
       "      <td>ND</td>\n",
       "      <td>58523.0</td>\n",
       "      <td>5499</td>\n",
       "      <td>NaN</td>\n",
       "    </tr>\n",
       "    <tr>\n",
       "      <th>1</th>\n",
       "      <td>7475328</td>\n",
       "      <td>2010-01-01 00:02:00</td>\n",
       "      <td>561</td>\n",
       "      <td>4575</td>\n",
       "      <td>$14.57</td>\n",
       "      <td>Swipe Transaction</td>\n",
       "      <td>67570</td>\n",
       "      <td>Bettendorf</td>\n",
       "      <td>IA</td>\n",
       "      <td>52722.0</td>\n",
       "      <td>5311</td>\n",
       "      <td>NaN</td>\n",
       "    </tr>\n",
       "    <tr>\n",
       "      <th>2</th>\n",
       "      <td>7475329</td>\n",
       "      <td>2010-01-01 00:02:00</td>\n",
       "      <td>1129</td>\n",
       "      <td>102</td>\n",
       "      <td>$80.00</td>\n",
       "      <td>Swipe Transaction</td>\n",
       "      <td>27092</td>\n",
       "      <td>Vista</td>\n",
       "      <td>CA</td>\n",
       "      <td>92084.0</td>\n",
       "      <td>4829</td>\n",
       "      <td>NaN</td>\n",
       "    </tr>\n",
       "    <tr>\n",
       "      <th>3</th>\n",
       "      <td>7475331</td>\n",
       "      <td>2010-01-01 00:05:00</td>\n",
       "      <td>430</td>\n",
       "      <td>2860</td>\n",
       "      <td>$200.00</td>\n",
       "      <td>Swipe Transaction</td>\n",
       "      <td>27092</td>\n",
       "      <td>Crown Point</td>\n",
       "      <td>IN</td>\n",
       "      <td>46307.0</td>\n",
       "      <td>4829</td>\n",
       "      <td>NaN</td>\n",
       "    </tr>\n",
       "    <tr>\n",
       "      <th>4</th>\n",
       "      <td>7475332</td>\n",
       "      <td>2010-01-01 00:06:00</td>\n",
       "      <td>848</td>\n",
       "      <td>3915</td>\n",
       "      <td>$46.41</td>\n",
       "      <td>Swipe Transaction</td>\n",
       "      <td>13051</td>\n",
       "      <td>Harwood</td>\n",
       "      <td>MD</td>\n",
       "      <td>20776.0</td>\n",
       "      <td>5813</td>\n",
       "      <td>NaN</td>\n",
       "    </tr>\n",
       "  </tbody>\n",
       "</table>\n",
       "</div>"
      ],
      "text/plain": [
       "        id                 date  client_id  card_id   amount  \\\n",
       "0  7475327  2010-01-01 00:01:00       1556     2972  $-77.00   \n",
       "1  7475328  2010-01-01 00:02:00        561     4575   $14.57   \n",
       "2  7475329  2010-01-01 00:02:00       1129      102   $80.00   \n",
       "3  7475331  2010-01-01 00:05:00        430     2860  $200.00   \n",
       "4  7475332  2010-01-01 00:06:00        848     3915   $46.41   \n",
       "\n",
       "            use_chip  merchant_id merchant_city merchant_state      zip   mcc  \\\n",
       "0  Swipe Transaction        59935        Beulah             ND  58523.0  5499   \n",
       "1  Swipe Transaction        67570    Bettendorf             IA  52722.0  5311   \n",
       "2  Swipe Transaction        27092         Vista             CA  92084.0  4829   \n",
       "3  Swipe Transaction        27092   Crown Point             IN  46307.0  4829   \n",
       "4  Swipe Transaction        13051       Harwood             MD  20776.0  5813   \n",
       "\n",
       "  errors  \n",
       "0    NaN  \n",
       "1    NaN  \n",
       "2    NaN  \n",
       "3    NaN  \n",
       "4    NaN  "
      ]
     },
     "execution_count": 2,
     "metadata": {},
     "output_type": "execute_result"
    }
   ],
   "source": [
    "data_raw=pd.read_csv('../Dataset/transactions_data.csv')\n",
    "data_raw.head()"
   ]
  },
  {
   "cell_type": "code",
   "execution_count": 3,
   "id": "0e288ebe",
   "metadata": {},
   "outputs": [
    {
     "data": {
      "text/html": [
       "<div>\n",
       "<style scoped>\n",
       "    .dataframe tbody tr th:only-of-type {\n",
       "        vertical-align: middle;\n",
       "    }\n",
       "\n",
       "    .dataframe tbody tr th {\n",
       "        vertical-align: top;\n",
       "    }\n",
       "\n",
       "    .dataframe thead th {\n",
       "        text-align: right;\n",
       "    }\n",
       "</style>\n",
       "<table border=\"1\" class=\"dataframe\">\n",
       "  <thead>\n",
       "    <tr style=\"text-align: right;\">\n",
       "      <th></th>\n",
       "      <th>id</th>\n",
       "      <th>client_id</th>\n",
       "      <th>card_brand</th>\n",
       "      <th>card_type</th>\n",
       "      <th>card_number</th>\n",
       "      <th>expires</th>\n",
       "      <th>cvv</th>\n",
       "      <th>has_chip</th>\n",
       "      <th>num_cards_issued</th>\n",
       "      <th>credit_limit</th>\n",
       "      <th>acct_open_date</th>\n",
       "      <th>year_pin_last_changed</th>\n",
       "      <th>card_on_dark_web</th>\n",
       "    </tr>\n",
       "  </thead>\n",
       "  <tbody>\n",
       "    <tr>\n",
       "      <th>0</th>\n",
       "      <td>4524</td>\n",
       "      <td>825</td>\n",
       "      <td>Visa</td>\n",
       "      <td>Debit</td>\n",
       "      <td>4344676511950444</td>\n",
       "      <td>12/2022</td>\n",
       "      <td>623</td>\n",
       "      <td>YES</td>\n",
       "      <td>2</td>\n",
       "      <td>$24295</td>\n",
       "      <td>09/2002</td>\n",
       "      <td>2008</td>\n",
       "      <td>No</td>\n",
       "    </tr>\n",
       "    <tr>\n",
       "      <th>1</th>\n",
       "      <td>2731</td>\n",
       "      <td>825</td>\n",
       "      <td>Visa</td>\n",
       "      <td>Debit</td>\n",
       "      <td>4956965974959986</td>\n",
       "      <td>12/2020</td>\n",
       "      <td>393</td>\n",
       "      <td>YES</td>\n",
       "      <td>2</td>\n",
       "      <td>$21968</td>\n",
       "      <td>04/2014</td>\n",
       "      <td>2014</td>\n",
       "      <td>No</td>\n",
       "    </tr>\n",
       "    <tr>\n",
       "      <th>2</th>\n",
       "      <td>3701</td>\n",
       "      <td>825</td>\n",
       "      <td>Visa</td>\n",
       "      <td>Debit</td>\n",
       "      <td>4582313478255491</td>\n",
       "      <td>02/2024</td>\n",
       "      <td>719</td>\n",
       "      <td>YES</td>\n",
       "      <td>2</td>\n",
       "      <td>$46414</td>\n",
       "      <td>07/2003</td>\n",
       "      <td>2004</td>\n",
       "      <td>No</td>\n",
       "    </tr>\n",
       "    <tr>\n",
       "      <th>3</th>\n",
       "      <td>42</td>\n",
       "      <td>825</td>\n",
       "      <td>Visa</td>\n",
       "      <td>Credit</td>\n",
       "      <td>4879494103069057</td>\n",
       "      <td>08/2024</td>\n",
       "      <td>693</td>\n",
       "      <td>NO</td>\n",
       "      <td>1</td>\n",
       "      <td>$12400</td>\n",
       "      <td>01/2003</td>\n",
       "      <td>2012</td>\n",
       "      <td>No</td>\n",
       "    </tr>\n",
       "    <tr>\n",
       "      <th>4</th>\n",
       "      <td>4659</td>\n",
       "      <td>825</td>\n",
       "      <td>Mastercard</td>\n",
       "      <td>Debit (Prepaid)</td>\n",
       "      <td>5722874738736011</td>\n",
       "      <td>03/2009</td>\n",
       "      <td>75</td>\n",
       "      <td>YES</td>\n",
       "      <td>1</td>\n",
       "      <td>$28</td>\n",
       "      <td>09/2008</td>\n",
       "      <td>2009</td>\n",
       "      <td>No</td>\n",
       "    </tr>\n",
       "  </tbody>\n",
       "</table>\n",
       "</div>"
      ],
      "text/plain": [
       "     id  client_id  card_brand        card_type       card_number  expires  \\\n",
       "0  4524        825        Visa            Debit  4344676511950444  12/2022   \n",
       "1  2731        825        Visa            Debit  4956965974959986  12/2020   \n",
       "2  3701        825        Visa            Debit  4582313478255491  02/2024   \n",
       "3    42        825        Visa           Credit  4879494103069057  08/2024   \n",
       "4  4659        825  Mastercard  Debit (Prepaid)  5722874738736011  03/2009   \n",
       "\n",
       "   cvv has_chip  num_cards_issued credit_limit acct_open_date  \\\n",
       "0  623      YES                 2       $24295        09/2002   \n",
       "1  393      YES                 2       $21968        04/2014   \n",
       "2  719      YES                 2       $46414        07/2003   \n",
       "3  693       NO                 1       $12400        01/2003   \n",
       "4   75      YES                 1          $28        09/2008   \n",
       "\n",
       "   year_pin_last_changed card_on_dark_web  \n",
       "0                   2008               No  \n",
       "1                   2014               No  \n",
       "2                   2004               No  \n",
       "3                   2012               No  \n",
       "4                   2009               No  "
      ]
     },
     "execution_count": 3,
     "metadata": {},
     "output_type": "execute_result"
    }
   ],
   "source": [
    "data_raw_card=pd.read_csv('../Dataset/cards_data.csv')\n",
    "data_raw_card.head()\n"
   ]
  },
  {
   "cell_type": "code",
   "execution_count": 4,
   "id": "949bd122",
   "metadata": {},
   "outputs": [
    {
     "data": {
      "text/html": [
       "<div>\n",
       "<style scoped>\n",
       "    .dataframe tbody tr th:only-of-type {\n",
       "        vertical-align: middle;\n",
       "    }\n",
       "\n",
       "    .dataframe tbody tr th {\n",
       "        vertical-align: top;\n",
       "    }\n",
       "\n",
       "    .dataframe thead th {\n",
       "        text-align: right;\n",
       "    }\n",
       "</style>\n",
       "<table border=\"1\" class=\"dataframe\">\n",
       "  <thead>\n",
       "    <tr style=\"text-align: right;\">\n",
       "      <th></th>\n",
       "      <th>id</th>\n",
       "      <th>current_age</th>\n",
       "      <th>retirement_age</th>\n",
       "      <th>birth_year</th>\n",
       "      <th>birth_month</th>\n",
       "      <th>gender</th>\n",
       "      <th>address</th>\n",
       "      <th>latitude</th>\n",
       "      <th>longitude</th>\n",
       "      <th>per_capita_income</th>\n",
       "      <th>yearly_income</th>\n",
       "      <th>total_debt</th>\n",
       "      <th>credit_score</th>\n",
       "      <th>num_credit_cards</th>\n",
       "    </tr>\n",
       "  </thead>\n",
       "  <tbody>\n",
       "    <tr>\n",
       "      <th>0</th>\n",
       "      <td>825</td>\n",
       "      <td>53</td>\n",
       "      <td>66</td>\n",
       "      <td>1966</td>\n",
       "      <td>11</td>\n",
       "      <td>Female</td>\n",
       "      <td>462 Rose Lane</td>\n",
       "      <td>34.15</td>\n",
       "      <td>-117.76</td>\n",
       "      <td>$29278</td>\n",
       "      <td>$59696</td>\n",
       "      <td>$127613</td>\n",
       "      <td>787</td>\n",
       "      <td>5</td>\n",
       "    </tr>\n",
       "    <tr>\n",
       "      <th>1</th>\n",
       "      <td>1746</td>\n",
       "      <td>53</td>\n",
       "      <td>68</td>\n",
       "      <td>1966</td>\n",
       "      <td>12</td>\n",
       "      <td>Female</td>\n",
       "      <td>3606 Federal Boulevard</td>\n",
       "      <td>40.76</td>\n",
       "      <td>-73.74</td>\n",
       "      <td>$37891</td>\n",
       "      <td>$77254</td>\n",
       "      <td>$191349</td>\n",
       "      <td>701</td>\n",
       "      <td>5</td>\n",
       "    </tr>\n",
       "    <tr>\n",
       "      <th>2</th>\n",
       "      <td>1718</td>\n",
       "      <td>81</td>\n",
       "      <td>67</td>\n",
       "      <td>1938</td>\n",
       "      <td>11</td>\n",
       "      <td>Female</td>\n",
       "      <td>766 Third Drive</td>\n",
       "      <td>34.02</td>\n",
       "      <td>-117.89</td>\n",
       "      <td>$22681</td>\n",
       "      <td>$33483</td>\n",
       "      <td>$196</td>\n",
       "      <td>698</td>\n",
       "      <td>5</td>\n",
       "    </tr>\n",
       "    <tr>\n",
       "      <th>3</th>\n",
       "      <td>708</td>\n",
       "      <td>63</td>\n",
       "      <td>63</td>\n",
       "      <td>1957</td>\n",
       "      <td>1</td>\n",
       "      <td>Female</td>\n",
       "      <td>3 Madison Street</td>\n",
       "      <td>40.71</td>\n",
       "      <td>-73.99</td>\n",
       "      <td>$163145</td>\n",
       "      <td>$249925</td>\n",
       "      <td>$202328</td>\n",
       "      <td>722</td>\n",
       "      <td>4</td>\n",
       "    </tr>\n",
       "    <tr>\n",
       "      <th>4</th>\n",
       "      <td>1164</td>\n",
       "      <td>43</td>\n",
       "      <td>70</td>\n",
       "      <td>1976</td>\n",
       "      <td>9</td>\n",
       "      <td>Male</td>\n",
       "      <td>9620 Valley Stream Drive</td>\n",
       "      <td>37.76</td>\n",
       "      <td>-122.44</td>\n",
       "      <td>$53797</td>\n",
       "      <td>$109687</td>\n",
       "      <td>$183855</td>\n",
       "      <td>675</td>\n",
       "      <td>1</td>\n",
       "    </tr>\n",
       "  </tbody>\n",
       "</table>\n",
       "</div>"
      ],
      "text/plain": [
       "     id  current_age  retirement_age  birth_year  birth_month  gender  \\\n",
       "0   825           53              66        1966           11  Female   \n",
       "1  1746           53              68        1966           12  Female   \n",
       "2  1718           81              67        1938           11  Female   \n",
       "3   708           63              63        1957            1  Female   \n",
       "4  1164           43              70        1976            9    Male   \n",
       "\n",
       "                    address  latitude  longitude per_capita_income  \\\n",
       "0             462 Rose Lane     34.15    -117.76            $29278   \n",
       "1    3606 Federal Boulevard     40.76     -73.74            $37891   \n",
       "2           766 Third Drive     34.02    -117.89            $22681   \n",
       "3          3 Madison Street     40.71     -73.99           $163145   \n",
       "4  9620 Valley Stream Drive     37.76    -122.44            $53797   \n",
       "\n",
       "  yearly_income total_debt  credit_score  num_credit_cards  \n",
       "0        $59696    $127613           787                 5  \n",
       "1        $77254    $191349           701                 5  \n",
       "2        $33483       $196           698                 5  \n",
       "3       $249925    $202328           722                 4  \n",
       "4       $109687    $183855           675                 1  "
      ]
     },
     "execution_count": 4,
     "metadata": {},
     "output_type": "execute_result"
    }
   ],
   "source": [
    "data_raw_users=pd.read_csv('../Dataset/users_data.csv')\n",
    "data_raw_users.head()"
   ]
  },
  {
   "cell_type": "code",
   "execution_count": 5,
   "id": "20b70f2f",
   "metadata": {},
   "outputs": [],
   "source": [
    "data_bronze_trans = data_raw.copy()\n",
    "data_bronze_users = data_raw_users.copy()\n",
    "data_bronze_card = data_raw_card.copy()"
   ]
  },
  {
   "cell_type": "code",
   "execution_count": 6,
   "id": "a6fe8b79",
   "metadata": {},
   "outputs": [
    {
     "name": "stdout",
     "output_type": "stream",
     "text": [
      "Quantidade de registro de dados transacionais: 13305915\n",
      "Quantidade de registro de cartão de crédito: 6146\n",
      "Quantidade de registro de usuários: 2000\n"
     ]
    }
   ],
   "source": [
    "print(f'Quantidade de registro de dados transacionais: {data_bronze_trans.shape[0]}')\n",
    "print(f'Quantidade de registro de cartão de crédito: {data_bronze_card.shape[0]}')\n",
    "print(f'Quantidade de registro de usuários: {data_bronze_users.shape[0]}')"
   ]
  },
  {
   "cell_type": "markdown",
   "id": "a3c0f871",
   "metadata": {},
   "source": [
    "`Tipos de dados das colunas da tabela 'transactions_data': `"
   ]
  },
  {
   "cell_type": "code",
   "execution_count": 7,
   "id": "b1caa476",
   "metadata": {},
   "outputs": [
    {
     "name": "stdout",
     "output_type": "stream",
     "text": [
      "id                  int64\n",
      "date               object\n",
      "client_id           int64\n",
      "card_id             int64\n",
      "amount             object\n",
      "use_chip           object\n",
      "merchant_id         int64\n",
      "merchant_city      object\n",
      "merchant_state     object\n",
      "zip               float64\n",
      "mcc                 int64\n",
      "errors             object\n",
      "dtype: object\n"
     ]
    }
   ],
   "source": [
    "print(data_bronze_trans.dtypes)"
   ]
  },
  {
   "cell_type": "markdown",
   "id": "7fd1c8d5",
   "metadata": {},
   "source": [
    "`Tipos de dados das colunas da tabela 'cards_data': `"
   ]
  },
  {
   "cell_type": "code",
   "execution_count": 8,
   "id": "166ac9ef",
   "metadata": {},
   "outputs": [
    {
     "name": "stdout",
     "output_type": "stream",
     "text": [
      "id                        int64\n",
      "client_id                 int64\n",
      "card_brand               object\n",
      "card_type                object\n",
      "card_number               int64\n",
      "expires                  object\n",
      "cvv                       int64\n",
      "has_chip                 object\n",
      "num_cards_issued          int64\n",
      "credit_limit             object\n",
      "acct_open_date           object\n",
      "year_pin_last_changed     int64\n",
      "card_on_dark_web         object\n",
      "dtype: object\n"
     ]
    }
   ],
   "source": [
    "print(data_bronze_card.dtypes)"
   ]
  },
  {
   "cell_type": "markdown",
   "id": "0133016c",
   "metadata": {},
   "source": [
    "`Tipos de dados das colunas da tabela 'users_data': `"
   ]
  },
  {
   "cell_type": "code",
   "execution_count": 9,
   "id": "502beca6",
   "metadata": {},
   "outputs": [
    {
     "name": "stdout",
     "output_type": "stream",
     "text": [
      "id                     int64\n",
      "current_age            int64\n",
      "retirement_age         int64\n",
      "birth_year             int64\n",
      "birth_month            int64\n",
      "gender                object\n",
      "address               object\n",
      "latitude             float64\n",
      "longitude            float64\n",
      "per_capita_income     object\n",
      "yearly_income         object\n",
      "total_debt            object\n",
      "credit_score           int64\n",
      "num_credit_cards       int64\n",
      "dtype: object\n"
     ]
    }
   ],
   "source": [
    "print(data_bronze_users.dtypes)"
   ]
  },
  {
   "cell_type": "markdown",
   "id": "63809329",
   "metadata": {},
   "source": [
    "#### 2.0 Trasformação e limpeza de dados"
   ]
  },
  {
   "cell_type": "markdown",
   "id": "69e6f6b2",
   "metadata": {},
   "source": [
    "##### 2.1 Ajuste de tipo de dados\n",
    "- Ajsutar coluna de dados para o tipo de dado adequado para futura analises"
   ]
  },
  {
   "cell_type": "code",
   "execution_count": 10,
   "id": "e3859c83",
   "metadata": {},
   "outputs": [
    {
     "name": "stdout",
     "output_type": "stream",
     "text": [
      "id                         int64\n",
      "date              datetime64[ns]\n",
      "client_id                  int64\n",
      "card_id                    int64\n",
      "amount                   float64\n",
      "use_chip                  object\n",
      "merchant_id                int64\n",
      "merchant_city             object\n",
      "merchant_state            object\n",
      "zip                       object\n",
      "mcc                        int64\n",
      "errors                    object\n",
      "dtype: object\n"
     ]
    }
   ],
   "source": [
    "#Ajuste dataset dados transacionais\n",
    "data_bronze_trans['date'] = pd.to_datetime(data_bronze_trans['date'])\n",
    "data_bronze_trans['amount']=data_bronze_trans['amount'].str.replace('$','')\n",
    "data_bronze_trans['amount']=data_bronze_trans['amount'].astype(float)\n",
    "data_bronze_trans['merchant_city']=data_bronze_trans['merchant_city'].astype(str)\n",
    "data_bronze_trans['merchant_state']=data_bronze_trans['merchant_state'].astype(str)\n",
    "data_bronze_trans['zip']=data_bronze_trans['zip'].astype(str)\n",
    "data_bronze_trans['zip']=data_bronze_trans['zip'].str.replace('.0','')\n",
    "print(data_bronze_trans.dtypes)"
   ]
  },
  {
   "cell_type": "code",
   "execution_count": 11,
   "id": "3a812c70",
   "metadata": {},
   "outputs": [
    {
     "name": "stdout",
     "output_type": "stream",
     "text": [
      "id                           int64\n",
      "client_id                    int64\n",
      "card_brand                  object\n",
      "card_type                   object\n",
      "card_number                  int64\n",
      "expires                  period[M]\n",
      "cvv                          int64\n",
      "has_chip                      bool\n",
      "num_cards_issued             int64\n",
      "credit_limit               float64\n",
      "acct_open_date           period[M]\n",
      "year_pin_last_changed        int64\n",
      "card_on_dark_web              bool\n",
      "dtype: object\n"
     ]
    }
   ],
   "source": [
    "#Ajuste dataset cartões de crédito\n",
    "data_bronze_card['expires'] =  pd.to_datetime(data_bronze_card['expires'], format='%m/%Y').dt.to_period('M')\n",
    "data_bronze_card['acct_open_date'] =  pd.to_datetime(data_bronze_card['acct_open_date'], format='%m/%Y').dt.to_period('M')\n",
    "data_bronze_card['has_chip'] = data_bronze_card['has_chip'].map({'YES': True, 'NO': False})\n",
    "data_bronze_card['card_on_dark_web'] = data_bronze_card['card_on_dark_web'].map({'Yes': True, 'No': False})\n",
    "data_bronze_card['credit_limit'] = data_bronze_card['credit_limit'].str.replace('$','')\n",
    "data_bronze_card['credit_limit'] = data_bronze_card['credit_limit'].str.replace('$','').astype(float)\n",
    "print(data_bronze_card.dtypes)"
   ]
  },
  {
   "cell_type": "code",
   "execution_count": 12,
   "id": "42d5e960",
   "metadata": {},
   "outputs": [
    {
     "name": "stdout",
     "output_type": "stream",
     "text": [
      "id                     int64\n",
      "current_age            int64\n",
      "retirement_age         int64\n",
      "birth_year             int64\n",
      "birth_month            int64\n",
      "gender                object\n",
      "address               object\n",
      "latitude             float64\n",
      "longitude            float64\n",
      "per_capita_income    float64\n",
      "yearly_income        float64\n",
      "total_debt           float64\n",
      "credit_score           int64\n",
      "num_credit_cards       int64\n",
      "dtype: object\n"
     ]
    }
   ],
   "source": [
    "#Ajuste dataset usuários\n",
    "data_bronze_users['per_capita_income'] = data_bronze_users['per_capita_income'].str.replace('$','')\n",
    "data_bronze_users['per_capita_income'] = data_bronze_users['per_capita_income'].str.replace('$','').astype(float)\n",
    "data_bronze_users['yearly_income'] = data_bronze_users['yearly_income'].str.replace('$','')\n",
    "data_bronze_users['yearly_income'] = data_bronze_users['yearly_income'].str.replace('$','').astype(float)\n",
    "data_bronze_users['total_debt'] = data_bronze_users['total_debt'].str.replace('$','')\n",
    "data_bronze_users['total_debt'] = data_bronze_users['total_debt'].str.replace('$','').astype(float)\n",
    "print(data_bronze_users.dtypes)"
   ]
  },
  {
   "cell_type": "markdown",
   "id": "136bf721",
   "metadata": {},
   "source": [
    "##### 2.2 Limpeza de Nulos\n",
    "- verificação de porcentagem de nulos por coluna para avaliação e tratamento."
   ]
  },
  {
   "cell_type": "code",
   "execution_count": 13,
   "id": "647b4c4f",
   "metadata": {},
   "outputs": [
    {
     "data": {
      "text/plain": [
       "errors            98.411286\n",
       "id                 0.000000\n",
       "date               0.000000\n",
       "client_id          0.000000\n",
       "card_id            0.000000\n",
       "amount             0.000000\n",
       "use_chip           0.000000\n",
       "merchant_id        0.000000\n",
       "merchant_city      0.000000\n",
       "merchant_state     0.000000\n",
       "zip                0.000000\n",
       "mcc                0.000000\n",
       "dtype: float64"
      ]
     },
     "execution_count": 13,
     "metadata": {},
     "output_type": "execute_result"
    }
   ],
   "source": [
    "#Dataset dados transacionais:\n",
    "data_missing = data_bronze_trans.isna().sum()\n",
    "data_missing = (data_missing/len(data_bronze_trans))*100\n",
    "data_missing.sort_values(ascending=False)"
   ]
  },
  {
   "cell_type": "code",
   "execution_count": 14,
   "id": "af914635",
   "metadata": {},
   "outputs": [
    {
     "data": {
      "text/html": [
       "<div>\n",
       "<style scoped>\n",
       "    .dataframe tbody tr th:only-of-type {\n",
       "        vertical-align: middle;\n",
       "    }\n",
       "\n",
       "    .dataframe tbody tr th {\n",
       "        vertical-align: top;\n",
       "    }\n",
       "\n",
       "    .dataframe thead th {\n",
       "        text-align: right;\n",
       "    }\n",
       "</style>\n",
       "<table border=\"1\" class=\"dataframe\">\n",
       "  <thead>\n",
       "    <tr style=\"text-align: right;\">\n",
       "      <th></th>\n",
       "      <th>id</th>\n",
       "      <th>date</th>\n",
       "      <th>client_id</th>\n",
       "      <th>card_id</th>\n",
       "      <th>amount</th>\n",
       "      <th>use_chip</th>\n",
       "      <th>merchant_id</th>\n",
       "      <th>merchant_city</th>\n",
       "      <th>merchant_state</th>\n",
       "      <th>zip</th>\n",
       "      <th>mcc</th>\n",
       "    </tr>\n",
       "  </thead>\n",
       "  <tbody>\n",
       "    <tr>\n",
       "      <th>0</th>\n",
       "      <td>7475327</td>\n",
       "      <td>2010-01-01 00:01:00</td>\n",
       "      <td>1556</td>\n",
       "      <td>2972</td>\n",
       "      <td>-77.00</td>\n",
       "      <td>Swipe Transaction</td>\n",
       "      <td>59935</td>\n",
       "      <td>Beulah</td>\n",
       "      <td>ND</td>\n",
       "      <td>58523</td>\n",
       "      <td>5499</td>\n",
       "    </tr>\n",
       "    <tr>\n",
       "      <th>1</th>\n",
       "      <td>7475328</td>\n",
       "      <td>2010-01-01 00:02:00</td>\n",
       "      <td>561</td>\n",
       "      <td>4575</td>\n",
       "      <td>14.57</td>\n",
       "      <td>Swipe Transaction</td>\n",
       "      <td>67570</td>\n",
       "      <td>Bettendorf</td>\n",
       "      <td>IA</td>\n",
       "      <td>52722</td>\n",
       "      <td>5311</td>\n",
       "    </tr>\n",
       "    <tr>\n",
       "      <th>2</th>\n",
       "      <td>7475329</td>\n",
       "      <td>2010-01-01 00:02:00</td>\n",
       "      <td>1129</td>\n",
       "      <td>102</td>\n",
       "      <td>80.00</td>\n",
       "      <td>Swipe Transaction</td>\n",
       "      <td>27092</td>\n",
       "      <td>Vista</td>\n",
       "      <td>CA</td>\n",
       "      <td>92084</td>\n",
       "      <td>4829</td>\n",
       "    </tr>\n",
       "    <tr>\n",
       "      <th>3</th>\n",
       "      <td>7475331</td>\n",
       "      <td>2010-01-01 00:05:00</td>\n",
       "      <td>430</td>\n",
       "      <td>2860</td>\n",
       "      <td>200.00</td>\n",
       "      <td>Swipe Transaction</td>\n",
       "      <td>27092</td>\n",
       "      <td>Crown Point</td>\n",
       "      <td>IN</td>\n",
       "      <td>46307</td>\n",
       "      <td>4829</td>\n",
       "    </tr>\n",
       "    <tr>\n",
       "      <th>4</th>\n",
       "      <td>7475332</td>\n",
       "      <td>2010-01-01 00:06:00</td>\n",
       "      <td>848</td>\n",
       "      <td>3915</td>\n",
       "      <td>46.41</td>\n",
       "      <td>Swipe Transaction</td>\n",
       "      <td>13051</td>\n",
       "      <td>Harwood</td>\n",
       "      <td>MD</td>\n",
       "      <td>20776</td>\n",
       "      <td>5813</td>\n",
       "    </tr>\n",
       "  </tbody>\n",
       "</table>\n",
       "</div>"
      ],
      "text/plain": [
       "        id                date  client_id  card_id  amount           use_chip  \\\n",
       "0  7475327 2010-01-01 00:01:00       1556     2972  -77.00  Swipe Transaction   \n",
       "1  7475328 2010-01-01 00:02:00        561     4575   14.57  Swipe Transaction   \n",
       "2  7475329 2010-01-01 00:02:00       1129      102   80.00  Swipe Transaction   \n",
       "3  7475331 2010-01-01 00:05:00        430     2860  200.00  Swipe Transaction   \n",
       "4  7475332 2010-01-01 00:06:00        848     3915   46.41  Swipe Transaction   \n",
       "\n",
       "   merchant_id merchant_city merchant_state    zip   mcc  \n",
       "0        59935        Beulah             ND  58523  5499  \n",
       "1        67570    Bettendorf             IA  52722  5311  \n",
       "2        27092         Vista             CA  92084  4829  \n",
       "3        27092   Crown Point             IN  46307  4829  \n",
       "4        13051       Harwood             MD  20776  5813  "
      ]
     },
     "execution_count": 14,
     "metadata": {},
     "output_type": "execute_result"
    }
   ],
   "source": [
    "data_bronze_trans.drop(columns=['errors'], inplace=True)  #Coluna quase toda nula\n",
    "data_bronze_trans.head()"
   ]
  },
  {
   "cell_type": "code",
   "execution_count": 20,
   "id": "5039317d",
   "metadata": {},
   "outputs": [
    {
     "data": {
      "text/plain": [
       "id                       0.0\n",
       "client_id                0.0\n",
       "card_brand               0.0\n",
       "card_type                0.0\n",
       "card_number              0.0\n",
       "expires                  0.0\n",
       "cvv                      0.0\n",
       "has_chip                 0.0\n",
       "num_cards_issued         0.0\n",
       "credit_limit             0.0\n",
       "acct_open_date           0.0\n",
       "year_pin_last_changed    0.0\n",
       "card_on_dark_web         0.0\n",
       "dtype: float64"
      ]
     },
     "execution_count": 20,
     "metadata": {},
     "output_type": "execute_result"
    }
   ],
   "source": [
    "#Dataset cartões de crédito:\n",
    "data_missing_card = data_bronze_card.isna().sum()\n",
    "data_missing_card = (data_missing_card/len(data_bronze_card))*100\n",
    "data_missing_card.sort_values(ascending=False)"
   ]
  },
  {
   "cell_type": "code",
   "execution_count": null,
   "id": "01697a2c",
   "metadata": {},
   "outputs": [],
   "source": [
    "# Todas as colunas estão com os dados completos"
   ]
  },
  {
   "cell_type": "code",
   "execution_count": 21,
   "id": "d42383ae",
   "metadata": {},
   "outputs": [
    {
     "data": {
      "text/plain": [
       "id                   0.0\n",
       "current_age          0.0\n",
       "retirement_age       0.0\n",
       "birth_year           0.0\n",
       "birth_month          0.0\n",
       "gender               0.0\n",
       "address              0.0\n",
       "latitude             0.0\n",
       "longitude            0.0\n",
       "per_capita_income    0.0\n",
       "yearly_income        0.0\n",
       "total_debt           0.0\n",
       "credit_score         0.0\n",
       "num_credit_cards     0.0\n",
       "dtype: float64"
      ]
     },
     "execution_count": 21,
     "metadata": {},
     "output_type": "execute_result"
    }
   ],
   "source": [
    "#Dataset cartões de usuários:\n",
    "data_missing_users = data_bronze_users.isna().sum()\n",
    "data_missing_users = (data_missing_users/len(data_bronze_users))*100\n",
    "data_missing_users.sort_values(ascending=False)"
   ]
  },
  {
   "cell_type": "code",
   "execution_count": null,
   "id": "27216c2d",
   "metadata": {},
   "outputs": [],
   "source": [
    "# Todas as colunas estão com os dados completos"
   ]
  },
  {
   "cell_type": "markdown",
   "id": "0905aa52",
   "metadata": {},
   "source": [
    "##### 2.3 Enriquecimento de tabela"
   ]
  },
  {
   "cell_type": "code",
   "execution_count": null,
   "id": "622e4c0b",
   "metadata": {},
   "outputs": [],
   "source": []
  },
  {
   "cell_type": "markdown",
   "id": "4da08085",
   "metadata": {},
   "source": [
    "#### 3.0 Carregamento banco de dados"
   ]
  },
  {
   "cell_type": "code",
   "execution_count": 23,
   "id": "7848de2f",
   "metadata": {},
   "outputs": [],
   "source": [
    "df_trans_silver = data_bronze_trans.copy()\n",
    "df_trans_silver.to_parquet('../Dataset/Pandas/Tabela_Transacoes_Silver')\n",
    "df_card_silver = data_bronze_card.copy()\n",
    "df_card_silver.to_parquet('../Dataset/Pandas/Tabela_Cartoes_Credito_Silver')\n",
    "df_users_silver = data_bronze_users.copy()\n",
    "df_users_silver.to_parquet('../Dataset/Pandas/Tabela_Usuarios_Silver')"
   ]
  }
 ],
 "metadata": {
  "colab": {
   "provenance": []
  },
  "kernelspec": {
   "display_name": "base",
   "language": "python",
   "name": "python3"
  },
  "language_info": {
   "codemirror_mode": {
    "name": "ipython",
    "version": 3
   },
   "file_extension": ".py",
   "mimetype": "text/x-python",
   "name": "python",
   "nbconvert_exporter": "python",
   "pygments_lexer": "ipython3",
   "version": "3.11.7"
  }
 },
 "nbformat": 4,
 "nbformat_minor": 5
}
