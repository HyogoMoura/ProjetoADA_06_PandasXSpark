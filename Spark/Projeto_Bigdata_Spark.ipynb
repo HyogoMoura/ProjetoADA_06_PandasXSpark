{
 "cells": [
  {
   "cell_type": "markdown",
   "id": "14fbb9c6",
   "metadata": {
    "id": "14fbb9c6"
   },
   "source": [
    "# Projeto 06- Bigdata - Pandas"
   ]
  },
  {
   "cell_type": "markdown",
   "id": "fc1b2ffb",
   "metadata": {
    "id": "fc1b2ffb"
   },
   "source": [
    "## Contextualização\n",
    "\n",
    "A PyCoders Ltda., cada vez mais especializada no mundo da Engenharia de Dados, foi procurada por uma fintech para desenvolver um projeto de análise de dados.\n",
    "\n",
    "A fintech percebeu que muito dos seus processos estão se tornando lentos pelo uso incorreto de ferramentas! Desde que está se trabalhando com Big Data, uso de bibliotecas como pandas e sklearn tornam a Extracção, Tratamento e Carregamento dos dados (ETL) processos muito lentos, inclusive o treinamento de modelos de machine learning (ML) tem se tornado um processo muito demorado.\n",
    "\n",
    "Para lidar com esse problema, foi sugerido fazer uso da biblioteca pyspark, para implementar todo o fluxo de ETL.\n"
   ]
  },
  {
   "cell_type": "markdown",
   "id": "4a7cb738",
   "metadata": {
    "id": "4a7cb738"
   },
   "source": [
    "## Objetivo de projeto\n",
    "\n",
    "Como queremos demostrar que de fato a solução proposta traz uma melhora, foi solicitado implementar uma análise comparativa de resultados usando a antiga abordagem (usando pandas e sklearn) e usando a nova proposta de solução (pyspark). Para isso, tome em consideração o seguinte:\n",
    "\n",
    "1. Escolha dois conjuntos de dados interessantes, sendo que um deles é pequeno (menos de 10.000 linhas) e o outro bem maior (acima de 1.000.000 linhas). Uma possivel sugestão seria usar um unico dataset (com muitos dados), e extrair uma pequena proporção dos dados desde dataset e considerar essa parte como o dataset menor.\n",
    "\n",
    "   - **Sugestão:** <a href=\"https://www.kaggle.com/datasets/computingvictor/transactions-fraud-datasets\" target=\"_blank\">Transactions Fraud Dataset</a>.\n",
    "\n",
    "2. Aplique todas as etapas de ETL nos dois conjuntos de dados usando pandas y pyspark. As etapas incluem: (1) Extração dos dados, por exemplo de um csv, (2) Tratamento dos dados (limpeza, alteração de nomes de colunas, criação de mais tabelas, transformação nas colunas, etc.), e, (3) Carregamento dos dados (salvar a transformação feita sobre os dados). \n",
    "\n",
    "3. Lembre que cada etapa tem que ser feita usando unicamente pandas/sklearn ou pyspark.\n",
    "\n",
    "4. Como o objetivo é fazer uma análise comparativa, tome em consideração o tempo que demora cada etapa, para depois facilitar as comparações. \n",
    "\n",
    "Boa sorte e divirta-se!!"
   ]
  },
  {
   "cell_type": "markdown",
   "id": "5f639254-5a35-43b6-bd58-19c9615d0ed7",
   "metadata": {
    "id": "5f639254-5a35-43b6-bd58-19c9615d0ed7"
   },
   "source": [
    "## Datasets\n",
    "\n",
    "\n",
    "Você pode procurar conjuntos de dados aqui:\n",
    "\n",
    "1. No repositório da <a href=\"https://archive.ics.uci.edu/ml/datasets.php\" target=\"_blank\">UCI</a>.\n",
    "1. No <a href=\"https://www.kaggle.com/datasets\" target=\"_blank\">Kaggle</a>.\n",
    "\n",
    "\n",
    "## Organização e entregáveis\n",
    "\n",
    "1. O projeto pode ser feito em grupo de até 05 participantes.\n",
    "2. O projeto completo (Notebook, código-fonte, link para fontes, bases e demais artefatos) deve ser enviado por e-mail ``jchambyd@gmail.com`` com nome dos participantes. Colocar no assunto do e-mail: ``Projeto Santander Coders 2024 - Data - Turma 1180``\n",
    "\n",
    "## Deadline\n",
    "**Apresentação**: 10/12/2024 <br>\n"
   ]
  },
  {
   "cell_type": "markdown",
   "id": "79afd15b",
   "metadata": {
    "id": "79afd15b"
   },
   "source": [
    "## Exemplo:\n",
    "\n",
    "[ETL simples usando pandas][1]\n",
    "\n",
    "[ETL simples usando pyspark][2]\n",
    "\n",
    "[1]: https://blog.devgenius.io/basic-etl-using-pandas-23729ae4e05e\n",
    "\n",
    "[2]: https://blog.devgenius.io/basic-etl-using-pyspark-ed08b7e53cf4"
   ]
  },
  {
   "cell_type": "markdown",
   "id": "7a1036a4",
   "metadata": {},
   "source": [
    "### ETL PySpark"
   ]
  },
  {
   "cell_type": "code",
   "execution_count": null,
   "id": "27490b59",
   "metadata": {},
   "outputs": [],
   "source": []
  }
 ],
 "metadata": {
  "colab": {
   "provenance": []
  },
  "kernelspec": {
   "display_name": "base",
   "language": "python",
   "name": "python3"
  },
  "language_info": {
   "codemirror_mode": {
    "name": "ipython",
    "version": 3
   },
   "file_extension": ".py",
   "mimetype": "text/x-python",
   "name": "python",
   "nbconvert_exporter": "python",
   "pygments_lexer": "ipython3",
   "version": "3.11.7"
  }
 },
 "nbformat": 4,
 "nbformat_minor": 5
}
